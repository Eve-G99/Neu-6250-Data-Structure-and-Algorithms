{
  "nbformat": 4,
  "nbformat_minor": 0,
  "metadata": {
    "colab": {
      "provenance": []
    },
    "kernelspec": {
      "name": "python3",
      "display_name": "Python 3"
    },
    "language_info": {
      "name": "python"
    }
  },
  "cells": [
    {
      "cell_type": "markdown",
      "source": [
        "# Assignment 3 - Yuetong Guo\n",
        "\n",
        "*   Nuid:001564631\n",
        "*   Link to this file:\n",
        "https://colab.research.google.com/drive/1P1u9h2mbLqx48A4_WbjWwPWGNMg3M__Y#scrollTo=YdWW7_ewqxpE\n"
      ],
      "metadata": {
        "id": "FibknLW1u1NM"
      }
    },
    {
      "cell_type": "markdown",
      "source": [
        "# Q1"
      ],
      "metadata": {
        "id": "crPheQhRzWnB"
      }
    },
    {
      "cell_type": "code",
      "execution_count": 2,
      "metadata": {
        "id": "YdWW7_ewqxpE"
      },
      "outputs": [],
      "source": [
        "from collections import deque\n",
        "\n",
        "def hasPath(maze, start, destination):\n",
        "    if not maze or not start or not destination:\n",
        "        return False\n",
        "    if start == destination:\n",
        "        return True\n",
        "\n",
        "    q = deque([tuple(start)])\n",
        "    visited = set([tuple(start)])\n",
        "    directions = [(0, 1), (0, -1), (1, 0), (-1, 0)]\n",
        "\n",
        "    while q:\n",
        "        current = q.popleft()\n",
        "        for dx, dy in directions:\n",
        "            x, y = current\n",
        "            while 0 <= x+dx < len(maze) and 0 <= y+dy < len(maze[0]) and maze[x+dx][y+dy] != 'x':\n",
        "                x += dx\n",
        "                y += dy\n",
        "            if (x, y) not in visited:\n",
        "                if x == destination[0] and y == destination[1]:  # Check for destination here\n",
        "                    return True\n",
        "                visited.add((x, y))\n",
        "                q.append((x, y))\n",
        "    \n",
        "    return False\n"
      ]
    },
    {
      "cell_type": "code",
      "source": [
        "# Example usage\n",
        "maze = [['x', 'x', 'x', 'x', 'x', 'x', 'x'],\n",
        "        ['x', 'o', 'o', 'o', 'o', 'o', 'x'],\n",
        "        ['x', 'o', 'x', 'x', 'o', 'x', 'x'],\n",
        "        ['x', 'o', 'o', 'x', 'o', 'o', 'x'],\n",
        "        ['x', 'x', 'x', 'x', 'x', 'o', 'x'],\n",
        "        ['x', 'o', 'o', 'o', 'o', 'o', 'x'],\n",
        "        ['x', 'x', 'x', 'x', 'x', 'x', 'x']\n",
        "]\n",
        "start = [1, 4]\n",
        "destination = [5, 5]\n",
        "print(hasPath(maze, start, destination))  \n",
        "# Expected output: True\n"
      ],
      "metadata": {
        "colab": {
          "base_uri": "https://localhost:8080/"
        },
        "id": "dpWCheFoq_TV",
        "outputId": "b8fda069-0cdb-41a6-ddec-8868c7e6de9f"
      },
      "execution_count": 3,
      "outputs": [
        {
          "output_type": "stream",
          "name": "stdout",
          "text": [
            "True\n"
          ]
        }
      ]
    },
    {
      "cell_type": "markdown",
      "source": [
        "# Q2"
      ],
      "metadata": {
        "id": "t4E2-u0uzaYf"
      }
    },
    {
      "cell_type": "code",
      "source": [
        "def gameOfLife(board):\n",
        "    if not board or not board[0]:\n",
        "        return\n",
        "\n",
        "    m, n = len(board), len(board[0])\n",
        "    directions = [(0, 1), (0, -1), (1, 0), (-1, 0), (1, 1), (-1, -1), (1, -1), (-1, 1)]\n",
        "\n",
        "    def count_live_neighbors(x, y):\n",
        "        count = 0\n",
        "        for dx, dy in directions:\n",
        "            nx, ny = x + dx, y + dy\n",
        "            if 0 <= nx < m and 0 <= ny < n and abs(board[nx][ny]) == 1:\n",
        "                count += 1\n",
        "        return count\n",
        "\n",
        "    for i in range(m):\n",
        "        for j in range(n):\n",
        "            live_neighbors = count_live_neighbors(i, j)\n",
        "            if board[i][j] == 1:\n",
        "                if live_neighbors < 2 or live_neighbors > 3:\n",
        "                    board[i][j] = -1  # Dying, marked as -1\n",
        "            else:\n",
        "                if live_neighbors == 3:\n",
        "                    board[i][j] = 2  # Becoming alive, marked as 2\n",
        "\n",
        "    for i in range(m):\n",
        "        for j in range(n):\n",
        "            if board[i][j] > 0:\n",
        "                board[i][j] = 1\n",
        "            else:\n",
        "                board[i][j] = 0\n"
      ],
      "metadata": {
        "id": "iIyVjsyyyE2i"
      },
      "execution_count": 4,
      "outputs": []
    },
    {
      "cell_type": "code",
      "source": [
        "# Example usage\n",
        "board = [[0, 1, 0], [0, 0, 1], [1, 1, 1], [0, 0, 0]]\n",
        "gameOfLife(board)\n",
        "\n",
        "# Print the updated board\n",
        "for row in board:\n",
        "    print(row)\n"
      ],
      "metadata": {
        "colab": {
          "base_uri": "https://localhost:8080/"
        },
        "id": "IWdq3xFdzF2y",
        "outputId": "4c44a651-bac3-4b7f-d29b-e5723a4f90b6"
      },
      "execution_count": 5,
      "outputs": [
        {
          "output_type": "stream",
          "name": "stdout",
          "text": [
            "[0, 0, 0]\n",
            "[1, 0, 1]\n",
            "[0, 1, 1]\n",
            "[0, 1, 0]\n"
          ]
        }
      ]
    },
    {
      "cell_type": "markdown",
      "source": [
        "# Q10"
      ],
      "metadata": {
        "id": "6yXDzEsPmPtF"
      }
    },
    {
      "cell_type": "code",
      "source": [
        "from typing import List\n",
        "\n",
        "def manhattan_distance(p1: List[int], p2: List[int]) -> int:\n",
        "    return abs(p1[0] - p2[0]) + abs(p1[1] - p2[1])\n",
        "\n",
        "def find(parent: List[int], i: int) -> int:\n",
        "    if parent[i] == i:\n",
        "        return i\n",
        "    parent[i] = find(parent, parent[i])\n",
        "    return parent[i]\n",
        "\n",
        "def union(parent: List[int], rank: List[int], i: int, j: int) -> None:\n",
        "    i_root = find(parent, i)\n",
        "    j_root = find(parent, j)\n",
        "\n",
        "    if rank[i_root] < rank[j_root]:\n",
        "        parent[i_root] = j_root\n",
        "    elif rank[i_root] > rank[j_root]:\n",
        "        parent[j_root] = i_root\n",
        "    else:\n",
        "        parent[j_root] = i_root\n",
        "        rank[i_root] += 1\n",
        "\n",
        "def min_cost_connect_points(points: List[List[int]]) -> int:\n",
        "    n = len(points)\n",
        "    parent = list(range(n))\n",
        "    rank = [0] * n\n",
        "\n",
        "    edges = []\n",
        "    for i in range(n):\n",
        "        for j in range(i + 1, n):\n",
        "            distance = manhattan_distance(points[i], points[j])\n",
        "            edges.append((distance, i, j))\n",
        "\n",
        "    edges.sort()\n",
        "\n",
        "    min_cost = 0\n",
        "    num_edges = 0\n",
        "\n",
        "    for edge in edges:\n",
        "        distance, i, j = edge\n",
        "        if find(parent, i) != find(parent, j):\n",
        "            union(parent, rank, i, j)\n",
        "            min_cost += distance\n",
        "            num_edges += 1\n",
        "\n",
        "            if num_edges == n - 1:\n",
        "                break\n",
        "\n",
        "    return min_cost\n",
        "\n",
        "points = [[0, 0], [2, 2], [3, 10], [5, 2], [7, 0]]\n",
        "print(min_cost_connect_points(points))  # Output: 20\n"
      ],
      "metadata": {
        "colab": {
          "base_uri": "https://localhost:8080/"
        },
        "id": "aXXW9aMCpFaf",
        "outputId": "05c918bc-d2d1-4304-98ba-75e2d4534907"
      },
      "execution_count": 10,
      "outputs": [
        {
          "output_type": "stream",
          "name": "stdout",
          "text": [
            "20\n"
          ]
        }
      ]
    },
    {
      "cell_type": "code",
      "source": [
        "# Example usage\n",
        "points = [[0, 0], [2, 2], [3, 10], [5, 2], [7, 0]]\n",
        "result = min_cost_connect_points(points)\n",
        "print(\"The minimum cost is\", result)  "
      ],
      "metadata": {
        "colab": {
          "base_uri": "https://localhost:8080/"
        },
        "id": "grTRUPOWoPzQ",
        "outputId": "6dfd48ac-83b4-4bfb-9a6a-e8e56a6e55da"
      },
      "execution_count": 13,
      "outputs": [
        {
          "output_type": "stream",
          "name": "stdout",
          "text": [
            "The minimum cost is 20\n"
          ]
        }
      ]
    }
  ]
}