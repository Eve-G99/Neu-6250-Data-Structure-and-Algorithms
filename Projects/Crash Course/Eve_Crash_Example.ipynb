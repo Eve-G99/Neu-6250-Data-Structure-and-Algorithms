{
  "nbformat": 4,
  "nbformat_minor": 0,
  "metadata": {
    "colab": {
      "provenance": [],
      "toc_visible": true
    },
    "kernelspec": {
      "name": "python3",
      "display_name": "Python 3"
    },
    "language_info": {
      "name": "python"
    }
  },
  "cells": [
    {
      "cell_type": "markdown",
      "source": [
        "# CrashCourse Example - Yuetong Guo\n",
        "\n",
        "*   Nuid:001564631\n",
        "*   Link to this file:\n",
        "https://colab.research.google.com/drive/1UTb6MepHO1DY4auBpBSOHjBAjURDHvhZ?usp=sharing\n"
      ],
      "metadata": {
        "id": "FibknLW1u1NM"
      }
    },
    {
      "cell_type": "markdown",
      "source": [
        "# LC416. Partituion Equals Subset Sum"
      ],
      "metadata": {
        "id": "mEmaMM5ezek7"
      }
    },
    {
      "cell_type": "code",
      "execution_count": 11,
      "metadata": {
        "colab": {
          "base_uri": "https://localhost:8080/"
        },
        "id": "m2i8trEAysIY",
        "outputId": "563140c3-75ad-4b71-d763-eba656ab7cfe"
      },
      "outputs": [
        {
          "output_type": "stream",
          "name": "stdout",
          "text": [
            "True\n"
          ]
        }
      ],
      "source": [
        "from typing import List\n",
        "\n",
        "def can_partition(nums: List[int]) -> bool:\n",
        "    sum_nums = sum(nums)\n",
        "    n = len(nums)\n",
        "    \n",
        "    if sum_nums % 2 != 0:\n",
        "        return False\n",
        "\n",
        "    capacity = sum_nums // 2\n",
        "    dp = [False] * (capacity + 1)\n",
        "    dp[0] = True\n",
        "\n",
        "    for i in range(1, n + 1):\n",
        "        for j in range(capacity, nums[i - 1] - 1, -1):\n",
        "            dp[j] = dp[j] or dp[j - nums[i - 1]]\n",
        "\n",
        "    return dp[capacity]\n",
        "\n",
        "# Example usage\n",
        "nums = [1, 5, 11, 5]\n",
        "print(can_partition(nums))  # Output: True\n"
      ]
    },
    {
      "cell_type": "code",
      "source": [
        "# Example 2\n",
        "nums = [1, 2, 3, 5]\n",
        "print(can_partition(nums))  # Output: False"
      ],
      "metadata": {
        "colab": {
          "base_uri": "https://localhost:8080/"
        },
        "id": "g43pRhXZ3KHO",
        "outputId": "4bf2566c-d3ab-45e2-bb91-03337d299422"
      },
      "execution_count": 10,
      "outputs": [
        {
          "output_type": "stream",
          "name": "stdout",
          "text": [
            "False\n"
          ]
        }
      ]
    },
    {
      "cell_type": "markdown",
      "source": [
        "# LC322. Coin Change"
      ],
      "metadata": {
        "id": "Z3IykAeH0JCj"
      }
    },
    {
      "cell_type": "code",
      "source": [
        "from typing import List\n",
        "import sys\n",
        "\n",
        "def coin_change(coins: List[int], amount: int) -> int:\n",
        "    dp = [sys.maxsize] * (amount + 1)\n",
        "    dp[0] = 0\n",
        "\n",
        "    for i in range(1, len(coins) + 1):\n",
        "        for j in range(coins[i - 1], amount + 1):\n",
        "            if dp[j] - 1 > dp[j - coins[i - 1]]:\n",
        "                dp[j] = 1 + dp[j - coins[i - 1]]\n",
        "\n",
        "    return -1 if dp[amount] == sys.maxsize else dp[amount]\n",
        "\n",
        "# Example usage\n",
        "coins = [1, 2, 5]\n",
        "amount = 11\n",
        "print(coin_change(coins, amount))  # Output: 3\n"
      ],
      "metadata": {
        "colab": {
          "base_uri": "https://localhost:8080/"
        },
        "id": "tTZBksWw0kwY",
        "outputId": "b02132fb-75a5-4d49-ab01-0502d3ff3a31"
      },
      "execution_count": 9,
      "outputs": [
        {
          "output_type": "stream",
          "name": "stdout",
          "text": [
            "3\n"
          ]
        }
      ]
    },
    {
      "cell_type": "code",
      "source": [
        "# Example 2\n",
        "coins = [2]\n",
        "amount = 3\n",
        "print(coin_change(coins, amount))  # Output: -1"
      ],
      "metadata": {
        "colab": {
          "base_uri": "https://localhost:8080/"
        },
        "id": "7zkcd93s3HCu",
        "outputId": "17892dde-ce39-4c2d-98d2-712896492c8f"
      },
      "execution_count": 8,
      "outputs": [
        {
          "output_type": "stream",
          "name": "stdout",
          "text": [
            "-1\n"
          ]
        }
      ]
    },
    {
      "cell_type": "markdown",
      "source": [
        "# LC494. Target Sum"
      ],
      "metadata": {
        "id": "1qODpDQt1fnm"
      }
    },
    {
      "cell_type": "code",
      "source": [
        "from typing import List\n",
        "\n",
        "def find_target_sum_ways(nums: List[int], S: int) -> int:\n",
        "    total_sum = sum(nums)\n",
        "    if S > total_sum or total_sum < -S:\n",
        "        return 0\n",
        "    if (S + total_sum) & 1:\n",
        "        return 0\n",
        "    \n",
        "    target = (S + total_sum) >> 1\n",
        "\n",
        "    dp = [0] * (target + 1)\n",
        "    dp[0] = 1\n",
        "    for i in range(1, len(nums) + 1):\n",
        "        for j in range(target, nums[i - 1] - 1, -1):\n",
        "            dp[j] = dp[j] + dp[j - nums[i - 1]]\n",
        "\n",
        "    return dp[target]\n",
        "\n",
        "# Example usage\n",
        "nums = [1, 1, 1, 1, 1]\n",
        "target_sum = 3\n",
        "print(find_target_sum_ways(nums, target_sum))  # Output: 5"
      ],
      "metadata": {
        "colab": {
          "base_uri": "https://localhost:8080/"
        },
        "id": "KVXWHaNk1chV",
        "outputId": "e22f764e-de30-4777-ac79-b2573bfa7a00"
      },
      "execution_count": 3,
      "outputs": [
        {
          "output_type": "stream",
          "name": "stdout",
          "text": [
            "5\n"
          ]
        }
      ]
    },
    {
      "cell_type": "code",
      "source": [
        "# Example 2\n",
        "nums = [1]\n",
        "target_sum = 1\n",
        "print(find_target_sum_ways(nums, target_sum))  # Output: 1"
      ],
      "metadata": {
        "colab": {
          "base_uri": "https://localhost:8080/"
        },
        "id": "5UuUVcZZ2qAB",
        "outputId": "bd2827fb-af0c-427a-b326-c3c0129a9069"
      },
      "execution_count": 6,
      "outputs": [
        {
          "output_type": "stream",
          "name": "stdout",
          "text": [
            "1\n"
          ]
        }
      ]
    },
    {
      "cell_type": "markdown",
      "source": [
        "# LC474. Ones and Zeroes"
      ],
      "metadata": {
        "id": "JyKT3eab1l_q"
      }
    },
    {
      "cell_type": "code",
      "source": [
        "from typing import List\n",
        "\n",
        "def find_max_form(strs: List[str], m: int, n: int) -> int:\n",
        "    num = len(strs)\n",
        "\n",
        "    dp = [[0] * (n + 1) for _ in range(m + 1)]\n",
        "\n",
        "    for i in range(1, num + 1):\n",
        "        w0, w1 = 0, 0\n",
        "        # Calculate the two weights of the i-1th string\n",
        "        for c in strs[i - 1]:\n",
        "            if c == '0':\n",
        "                w0 += 1\n",
        "            else:\n",
        "                w1 += 1\n",
        "\n",
        "        # 0/1 Knapsack, reverse iteration to update dp\n",
        "        for j in range(m, w0 - 1, -1):\n",
        "            for k in range(n, w1 - 1, -1):\n",
        "                dp[j][k] = max(dp[j][k], 1 + dp[j - w0][k - w1])\n",
        "\n",
        "    return dp[m][n]\n",
        "\n",
        "# Example usage\n",
        "strs = [\"10\", \"0001\", \"111001\", \"1\", \"0\"]\n",
        "m, n = 5, 3\n",
        "print(find_max_form(strs, m, n))  # Output: 4\n"
      ],
      "metadata": {
        "colab": {
          "base_uri": "https://localhost:8080/"
        },
        "id": "ikP97dsT1r_r",
        "outputId": "ba98a991-faf2-4e3f-a546-b807b867eba1"
      },
      "execution_count": 4,
      "outputs": [
        {
          "output_type": "stream",
          "name": "stdout",
          "text": [
            "4\n"
          ]
        }
      ]
    },
    {
      "cell_type": "code",
      "source": [
        "# Example 2\n",
        "strs = [\"10\",\"0\",\"1\"]\n",
        "m, n = 1, 1\n",
        "print(find_max_form(strs, m, n))  # Output: 2"
      ],
      "metadata": {
        "colab": {
          "base_uri": "https://localhost:8080/"
        },
        "id": "dGZz2-Ku223W",
        "outputId": "03b2059a-259b-47a8-9074-0f260b378fe7"
      },
      "execution_count": 13,
      "outputs": [
        {
          "output_type": "stream",
          "name": "stdout",
          "text": [
            "2\n"
          ]
        }
      ]
    }
  ]
}